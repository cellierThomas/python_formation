{
  "nbformat": 4,
  "nbformat_minor": 0,
  "metadata": {
    "colab": {
      "name": "formation_python.ipynb",
      "provenance": [],
      "collapsed_sections": []
    },
    "kernelspec": {
      "name": "python3",
      "display_name": "Python 3"
    }
  },
  "cells": [
    {
      "cell_type": "markdown",
      "metadata": {
        "id": "L2_gccEyVjsH",
        "colab_type": "text"
      },
      "source": [
        "1ers tests du tuto"
      ]
    },
    {
      "cell_type": "code",
      "metadata": {
        "id": "k5XT7cu-TKZk",
        "colab_type": "code",
        "outputId": "285e1c14-9c15-4dc8-b580-3abd5b6e796e",
        "colab": {
          "base_uri": "https://localhost:8080/",
          "height": 34
        }
      },
      "source": [
        "7"
      ],
      "execution_count": 0,
      "outputs": [
        {
          "output_type": "execute_result",
          "data": {
            "text/plain": [
              "7"
            ]
          },
          "metadata": {
            "tags": []
          },
          "execution_count": 3
        }
      ]
    },
    {
      "cell_type": "code",
      "metadata": {
        "id": "Z7pLYNCwU9_6",
        "colab_type": "code",
        "outputId": "26e2fa4b-4ca8-4a8e-a673-fcce62b260b1",
        "colab": {
          "base_uri": "https://localhost:8080/",
          "height": 34
        }
      },
      "source": [
        "9.5"
      ],
      "execution_count": 0,
      "outputs": [
        {
          "output_type": "execute_result",
          "data": {
            "text/plain": [
              "9.5"
            ]
          },
          "metadata": {
            "tags": []
          },
          "execution_count": 4
        }
      ]
    },
    {
      "cell_type": "code",
      "metadata": {
        "id": "JaLMkVr9VFjE",
        "colab_type": "code",
        "outputId": "8bbe260b-965a-4bb0-8ff2-9816a394bdbb",
        "colab": {
          "base_uri": "https://localhost:8080/",
          "height": 34
        }
      },
      "source": [
        "3+3"
      ],
      "execution_count": 0,
      "outputs": [
        {
          "output_type": "execute_result",
          "data": {
            "text/plain": [
              "6"
            ]
          },
          "metadata": {
            "tags": []
          },
          "execution_count": 6
        }
      ]
    },
    {
      "cell_type": "code",
      "metadata": {
        "id": "sOPR2BzVVLfQ",
        "colab_type": "code",
        "outputId": "25d3e2b1-3cd8-41af-abfd-53ccf279a954",
        "colab": {
          "base_uri": "https://localhost:8080/",
          "height": 34
        }
      },
      "source": [
        "6/2"
      ],
      "execution_count": 0,
      "outputs": [
        {
          "output_type": "execute_result",
          "data": {
            "text/plain": [
              "3.0"
            ]
          },
          "metadata": {
            "tags": []
          },
          "execution_count": 7
        }
      ]
    },
    {
      "cell_type": "code",
      "metadata": {
        "id": "sRbFQ7O2VLnn",
        "colab_type": "code",
        "outputId": "4abcfd26-d310-4861-a18b-d7ff3e0ab2d3",
        "colab": {
          "base_uri": "https://localhost:8080/",
          "height": 34
        }
      },
      "source": [
        "10%3"
      ],
      "execution_count": 0,
      "outputs": [
        {
          "output_type": "execute_result",
          "data": {
            "text/plain": [
              "1"
            ]
          },
          "metadata": {
            "tags": []
          },
          "execution_count": 8
        }
      ]
    },
    {
      "cell_type": "markdown",
      "metadata": {
        "id": "sc4RY5WMVdQn",
        "colab_type": "text"
      },
      "source": [
        "partie entiere de la division //"
      ]
    },
    {
      "cell_type": "code",
      "metadata": {
        "id": "xvhLt2VGVLvF",
        "colab_type": "code",
        "outputId": "a2b4fc77-60f6-450d-caac-9604f38c96bd",
        "colab": {
          "base_uri": "https://localhost:8080/",
          "height": 34
        }
      },
      "source": [
        "10//3"
      ],
      "execution_count": 0,
      "outputs": [
        {
          "output_type": "execute_result",
          "data": {
            "text/plain": [
              "3"
            ]
          },
          "metadata": {
            "tags": []
          },
          "execution_count": 9
        }
      ]
    },
    {
      "cell_type": "code",
      "metadata": {
        "id": "Ml8KhNtwV9F4",
        "colab_type": "code",
        "outputId": "d9ebf6dc-4167-4b97-f6fa-670ad5cf4387",
        "colab": {
          "base_uri": "https://localhost:8080/",
          "height": 34
        }
      },
      "source": [
        "testVar = 10\n",
        "testVar"
      ],
      "execution_count": 0,
      "outputs": [
        {
          "output_type": "execute_result",
          "data": {
            "text/plain": [
              "10"
            ]
          },
          "metadata": {
            "tags": []
          },
          "execution_count": 10
        }
      ]
    },
    {
      "cell_type": "markdown",
      "metadata": {
        "id": "gPrbgArFWlJL",
        "colab_type": "text"
      },
      "source": [
        "\"\"\" pour une string permet de tout echapper automatiquement, pas comme ' ou \", et les sautes de lignes sont respectés"
      ]
    },
    {
      "cell_type": "code",
      "metadata": {
        "id": "Tv98-0QYWpw_",
        "colab_type": "code",
        "outputId": "be3dd0ff-aa76-4ea9-bba3-59045e2d4219",
        "colab": {
          "base_uri": "https://localhost:8080/",
          "height": 34
        }
      },
      "source": [
        "chaine = \"\"\"Et un test\n",
        "sur plusieurs\n",
        "lignes facile\"\"\"\n",
        "chaine"
      ],
      "execution_count": 0,
      "outputs": [
        {
          "output_type": "execute_result",
          "data": {
            "text/plain": [
              "'Et un test\\nsur plusieurs\\nlignes facile'"
            ]
          },
          "metadata": {
            "tags": []
          },
          "execution_count": 12
        }
      ]
    },
    {
      "cell_type": "markdown",
      "metadata": {
        "id": "P0zhgg8CXbp5",
        "colab_type": "text"
      },
      "source": [
        "Détail amusant, la permutation de  2 variables !"
      ]
    },
    {
      "cell_type": "code",
      "metadata": {
        "id": "Ir-rfD5WXjcj",
        "colab_type": "code",
        "outputId": "6ecfc817-fec1-4551-ed44-ffed55e0472a",
        "colab": {
          "base_uri": "https://localhost:8080/",
          "height": 34
        }
      },
      "source": [
        "a = 2\n",
        "b=12\n",
        "a,b=b,a\n",
        "print(\"a=\", a, \"et b=\", b)"
      ],
      "execution_count": 0,
      "outputs": [
        {
          "output_type": "stream",
          "text": [
            "a= 12 et b= 2\n"
          ],
          "name": "stdout"
        }
      ]
    },
    {
      "cell_type": "markdown",
      "metadata": {
        "id": "DtuQj55-X4LA",
        "colab_type": "text"
      },
      "source": [
        "Trivia : indiquer qu'une instruction continue sur la ligne suivante avec un antislash \\\n",
        "\n",
        "Connaitre type variable : type( variable)"
      ]
    },
    {
      "cell_type": "code",
      "metadata": {
        "id": "c1YSzRXvYXNj",
        "colab_type": "code",
        "outputId": "78763aca-3e50-4dec-b93b-f32579238019",
        "colab": {
          "base_uri": "https://localhost:8080/",
          "height": 34
        }
      },
      "source": [
        "a = 12486.6\n",
        "type(a)"
      ],
      "execution_count": 0,
      "outputs": [
        {
          "output_type": "execute_result",
          "data": {
            "text/plain": [
              "float"
            ]
          },
          "metadata": {
            "tags": []
          },
          "execution_count": 14
        }
      ]
    },
    {
      "cell_type": "code",
      "metadata": {
        "id": "Q89SL9-TX3fs",
        "colab_type": "code",
        "outputId": "a863e887-922b-4776-bae0-687fd0702b71",
        "colab": {
          "base_uri": "https://localhost:8080/",
          "height": 51
        }
      },
      "source": [
        "a = 71\n",
        "if a > 50 : \n",
        "  print(\"dans le if\")\n",
        "  a-=1\n",
        "else:\n",
        "  print(\"dans le else\")\n",
        "print(\"a=\", a)"
      ],
      "execution_count": 0,
      "outputs": [
        {
          "output_type": "stream",
          "text": [
            "dans le if\n",
            "a= 70\n"
          ],
          "name": "stdout"
        }
      ]
    },
    {
      "cell_type": "markdown",
      "metadata": {
        "id": "Ly-LzqQJcBAB",
        "colab_type": "text"
      },
      "source": [
        "1er TP \\\n",
        "Déterminer sur une année est bissextile \\\n",
        "L'astuce : si l'année est multiple de 400 elle est bissextile. \\\n",
        "pour optimiser :\\\n",
        "\n",
        "\n",
        "Si une année n'est pas multiple de 4, on s'arrête là, elle n'est pas bissextile.\n",
        "\n",
        "Si elle est multiple de 4, on regarde si elle est multiple de 100.\n",
        "\n",
        "  Si c'est le cas, on regarde si elle est multiple de 400.\n",
        "\n",
        "    Si c'est le cas, l'année est bissextile.\n",
        "\n",
        "    Sinon, elle n'est pas bissextile.\n",
        "\n",
        "  Sinon, elle est bissextile.\n",
        "\n",
        "\n",
        "\n",
        "\n"
      ]
    },
    {
      "cell_type": "code",
      "metadata": {
        "id": "CHEEo3ggcY0i",
        "colab_type": "code",
        "outputId": "8e0c095e-e407-454d-a67c-d7ea9829367a",
        "colab": {
          "base_uri": "https://localhost:8080/",
          "height": 51
        }
      },
      "source": [
        "annee = input(\"Indiquez une année : \")\n",
        "annee = int(annee)\n",
        "\n",
        "bissextile = False\n",
        "\n",
        "if annee % 4 == 0 : \n",
        "  if annee % 100 == 0 :\n",
        "    if annee % 400 == 0 :\n",
        "      bissextile = True\n",
        "  else : bissextile = True\n",
        "\n",
        "print(bissextile)"
      ],
      "execution_count": 0,
      "outputs": [
        {
          "output_type": "stream",
          "text": [
            "Indiquez une année : 1935\n",
            "False\n"
          ],
          "name": "stdout"
        }
      ]
    },
    {
      "cell_type": "markdown",
      "metadata": {
        "id": "Dbt5jmIdg0Y7",
        "colab_type": "text"
      },
      "source": [
        "Syntaxe while \\\n",
        "while condition : \\\n",
        "\n",
        "Syntaxe for : \\\n",
        "for <var de l'iteration> in <sequence> : \n",
        "\n",
        "TRIVIA : \\\n",
        "la signature d'une fonction en python c'est son nom, les parametres ne sont pas prits en compte, pas de polymorphisme possible. \\\n",
        "\n",
        "def func_name ( param, ... ) :\n",
        "\n",
        "Une lambda doit etre stockee pour etre appelee... \\\n",
        "\n",
        "exemple f = lambda x: x * x \\\n",
        "f(valeur) execute la lambda avec parametre\n"
      ]
    },
    {
      "cell_type": "markdown",
      "metadata": {
        "id": "7B696XAmkEH2",
        "colab_type": "text"
      },
      "source": [
        "Doc d'un module importé via import nom_Module (optionnel : as nouveau_nom) \\\n",
        "help(\"nom_Module\") \\\n",
        "\n",
        "appel de fonction via nom_module.fonction()\n",
        "\n",
        "pour ne récuperer qu'une seule fonction d'un module : \\\n",
        "from module import fonction \\\n",
        "appel de fonction = fonction() \\\n",
        "risques de collision de noms de fonctions de differents modules"
      ]
    },
    {
      "cell_type": "markdown",
      "metadata": {
        "id": "eV6t_PL2qQx6",
        "colab_type": "text"
      },
      "source": [
        "if __name__ == \"__main__\": \\\n",
        "si le fichier executé est le fichier courant, alors __name__ vaut __main__, permet de s'assurer que ce code n'est executé QUE si on lance ce fichier et pas s'il est importé depuis un fichier. Utile pour des TU/TI\n",
        "\n",
        "Pour un script, rajouter en début de fichier : \\"
      ]
    },
    {
      "cell_type": "code",
      "metadata": {
        "id": "CmxczPoisL2l",
        "colab_type": "code",
        "colab": {}
      },
      "source": [
        "# -*- coding: Latin-1 -*-"
      ],
      "execution_count": 0,
      "outputs": []
    },
    {
      "cell_type": "code",
      "metadata": {
        "id": "FQnNnKXYk2WP",
        "colab_type": "code",
        "outputId": "7cef511e-47ad-489d-a11e-5fff8d2d5910",
        "colab": {
          "base_uri": "https://localhost:8080/",
          "height": 85
        }
      },
      "source": [
        "# Programme testant si une année, saisie par l'utilisateur, est bissextile ou non\n",
        "\n",
        "inputOk = False\n",
        "\n",
        "while inputOk is False :\n",
        "  try : \n",
        "    annee = input(\"Saisissez une année : \") # On attend que l'utilisateur fournisse l'année qu'il désire tester\n",
        "    annee = int(annee) # Risque d'erreur si l'utilisateur n'a pas saisi un nombre\n",
        "    assert annee > 0 # permet de lever une exception assert si la condition n'est pas remplie\n",
        "  except NameError:\n",
        "    print(\"La variable numerateur ou denominateur n'a pas été définie.\")\n",
        "  except TypeError:\n",
        "    print(\"La variable numerateur ou denominateur possède un type incompatible avec la division.\")\n",
        "  except ZeroDivisionError:\n",
        "    print(\"La variable denominateur est égale à 0.\")\n",
        "  except AssertionError:\n",
        "    print(\"L'année saisie est inférieure ou égale à 0.\")\n",
        "  else :\n",
        "    #execute si tout se passe bien\n",
        "    inputOk = True\n",
        "  finally : \n",
        "    #pas necessaire ici mais bon, ca existe, comme partout s'execute toujours apres tout le reste\n",
        "    pass #sert a mettre une instruction mais ne fait rien\n",
        "\n",
        "\n",
        "if annee % 400 == 0 or (annee % 4 == 0 and annee % 100 != 0):\n",
        "    print(\"L'année saisie est bissextile.\")\n",
        "else:\n",
        "    print(\"L'année saisie n'est pas bissextile.\")"
      ],
      "execution_count": 0,
      "outputs": [
        {
          "output_type": "stream",
          "text": [
            "Saisissez une année : -986\n",
            "L'année saisie est inférieure ou égale à 0.\n",
            "Saisissez une année : 50\n",
            "L'année saisie n'est pas bissextile.\n"
          ],
          "name": "stdout"
        }
      ]
    },
    {
      "cell_type": "code",
      "metadata": {
        "id": "dJ-grqdrxJ0X",
        "colab_type": "code",
        "colab": {}
      },
      "source": [
        "raise nomException(\" Message d'erreur a afficher\") #permet de lever son exception perso"
      ],
      "execution_count": 0,
      "outputs": []
    },
    {
      "cell_type": "markdown",
      "metadata": {
        "id": "nXtTOrO8CkZp",
        "colab_type": "text"
      },
      "source": [
        "# TP 2"
      ]
    },
    {
      "cell_type": "code",
      "metadata": {
        "id": "4i4l25mj--XI",
        "colab_type": "code",
        "colab": {}
      },
      "source": [
        "# TP 2\n",
        "\n",
        "import random\n",
        "import math\n",
        "\n",
        "argent = 200 #somme initiale\n",
        "\n",
        "while argent >= 0 :\n",
        "  print(\"Somme actuelle : \", argent, \"$\")\n",
        "\n",
        "  #verification du parametre de mise\n",
        "  miseOk = False\n",
        "  while miseOk is False :\n",
        "    try :\n",
        "      mise = input(\"Combien souhaitez vous miser à la roulette ?\")\n",
        "      mise = int(mise)\n",
        "      assert mise > 0 , \"La mise doit etre supérieure à zéro\"\n",
        "      assert mise < argent, \"La mise ne peut pas dépasser l'argent possédé\"\n",
        "    except ValueError : \n",
        "      print(\"Veuillez entrer un entier\")\n",
        "    else : \n",
        "      miseOk = True\n",
        "      argent -= mise\n",
        "\n",
        "  #verification du parametre de la cible du paris\n",
        "  cibleOk = False\n",
        "  while cibleOk is False :\n",
        "    try :\n",
        "      numeroCible = int(input(\"Sur quel numero souhaitez vous miser?\"))\n",
        "      assert numeroCible > 0 , \"La cible de la mise ne peut pas être inférieure à zéro\"\n",
        "      assert numeroCible < 49, \"La cible de la mise ne peut pas être supérieure à 49\"\n",
        "    except ValueError: \n",
        "      print(\"Veuillez entrer un entier\")\n",
        "    else : \n",
        "      cibleOk = True\n",
        "\n",
        "  #resultat de la roulette\n",
        "  numeroRoulette = random.randrange(49)\n",
        "  print(\"Et le numéro donné par la roulette est le \", numeroRoulette)\n",
        "\n",
        "  couleurMise = (numeroCible % 2) == 0\n",
        "  couleurResultat = (numeroRoulette % 2) == 0\n",
        "\n",
        "  gain = 0\n",
        "  #calcul des gains\n",
        "  if couleurMise == couleurResultat : \n",
        "    gain = math.ceil(mise)\n",
        "    argent += gain\n",
        "    print(\"Même couleur, vous gagnez\", gain, \"$\")\n",
        "\n",
        "  if numeroCible == numeroRoulette : \n",
        "    gain = mise * 3\n",
        "    argent += gain\n",
        "    print(\"Bon numéro, vous gagnez\", mise, \"$\")\n",
        "\n",
        "  # Pour eviter de reverser la mise initiale si l'on trouve le bon numero (car on a aussi forcement la bonne couleur)\n",
        "  # le rajout de la mise est fait ici\n",
        "  if gain > 0 :\t\n",
        "    argent += mise\n",
        "  else :\n",
        "    print(\"Vous avez perdu \", mise, \"$\")"
      ],
      "execution_count": 0,
      "outputs": []
    },
    {
      "cell_type": "code",
      "metadata": {
        "id": "QNOAZfGaJ1nm",
        "colab_type": "code",
        "colab": {}
      },
      "source": [
        "#parametrer une string sans concatenation : \n",
        "nouvelle_chaine = \"Je m'appelle {0} {1} et j'ai {2} ans.\".format(\"Donald\", \"Duck\" , 73)"
      ],
      "execution_count": 0,
      "outputs": []
    },
    {
      "cell_type": "code",
      "metadata": {
        "id": "5_ZqhoLdJ4qx",
        "colab_type": "code",
        "outputId": "96d9d860-b098-4ebf-c8ac-a9c690f2b818",
        "colab": {
          "base_uri": "https://localhost:8080/",
          "height": 136
        }
      },
      "source": [
        "#plus drole, ca marche sans chiffres entre les accolades \n",
        "date = \"Dimanche 24 juillet 2011\"\n",
        "heure = \"17:00\"\n",
        "print(\"Cela s'est produit le {}, à {}.\".format(date, heure))\n",
        "\n",
        "#sinon concatené, mais la concatenation ne marche pas s'il y a des int (interpretation du +)\n",
        "chaine = \"Cela s'est produit le \" + date + \", à \" + heure + \"%\"\n",
        "print(chaine)\n",
        "\n",
        "print(chaine[-1]) # un indice negatif permet de partir de la fin\n",
        "#chaine[x] = valeur ne fonctionne pas sur les string, mais sur les lists oui\n",
        "\n",
        "# et ultra explicite\n",
        "# formatage d'une adresse\n",
        "adresse = \"\"\"\n",
        "{no_rue}, {nom_rue}\n",
        " {code_postal} {nom_ville} ({pays})\n",
        "\"\"\".format(no_rue=5, nom_rue=\"rue des Postes\", code_postal=75003, nom_ville=\"Paris\", pays=\"France\")\n",
        "print(adresse)"
      ],
      "execution_count": 0,
      "outputs": [
        {
          "output_type": "stream",
          "text": [
            "Cela s'est produit le Dimanche 24 juillet 2011, à 17:00.\n",
            "Cela s'est produit le Dimanche 24 juillet 2011, à 17:00%\n",
            "%\n",
            "\n",
            "5, rue des Postes\n",
            " 75003 Paris (France)\n",
            "\n"
          ],
          "name": "stdout"
        }
      ]
    },
    {
      "cell_type": "code",
      "metadata": {
        "id": "Xn1EXm69Tucs",
        "colab_type": "code",
        "outputId": "8f91c41f-f8d4-4630-f0ed-fc3ca342c2b9",
        "colab": {
          "base_uri": "https://localhost:8080/",
          "height": 51
        }
      },
      "source": [
        "#code méthode afficher_flottant donné en exercice\n",
        "parametre = input(\"Rentrez un nombre flottant\")\n",
        "\n",
        "#je passe les verifications pour aller directement a l'exercice qui est de manipuler des sequences \n",
        "#trouver le point\n",
        "i = parametre.find(\".\")\n",
        "print(parametre[:i+4])"
      ],
      "execution_count": 0,
      "outputs": [
        {
          "output_type": "stream",
          "text": [
            "Rentrez un nombre flottant56987436.3548764\n",
            "56987436.354\n"
          ],
          "name": "stdout"
        }
      ]
    },
    {
      "cell_type": "markdown",
      "metadata": {
        "id": "E6sEFas-ZQGG",
        "colab_type": "text"
      },
      "source": [
        "nbr de parametre inconnu : \\\n",
        "def fonction(*param):\n",
        "\n",
        "passer une liste comme un ensemble de params a une fonction : \\\n",
        "func(*list)\n"
      ]
    },
    {
      "cell_type": "code",
      "metadata": {
        "id": "eEuwaLVuZ7Na",
        "colab_type": "code",
        "outputId": "d44d0fce-dc9f-4466-93ab-28f0b53a00b1",
        "colab": {
          "base_uri": "https://localhost:8080/",
          "height": 51
        }
      },
      "source": [
        "#Exercice print\n",
        "def afficher(*params, sep=' ', fin='\\n'):\n",
        "  chaine = str()\n",
        "  for param in params :\n",
        "    chaine = chaine + str(param) + sep\n",
        "\n",
        "  print( chaine, fin )\n",
        "\n",
        "afficher ( \"plop\", 4 , 3, \"bli\" )"
      ],
      "execution_count": 0,
      "outputs": [
        {
          "output_type": "stream",
          "text": [
            "plop 4 3 bli  \n",
            "\n"
          ],
          "name": "stdout"
        }
      ]
    },
    {
      "cell_type": "code",
      "metadata": {
        "id": "H0gUI1MHzGo9",
        "colab_type": "code",
        "outputId": "4bfbdd77-de8e-4914-d81b-a0c925bac1fa",
        "colab": {
          "base_uri": "https://localhost:8080/",
          "height": 51
        }
      },
      "source": [
        "#Stockage de fonction dans un dictionnaire\n",
        "def fete():\n",
        "  print(\"C'est la fête.\")\n",
        "\n",
        "def oiseau():\n",
        "  print(\"Fais comme l'oiseau...\")\n",
        "\n",
        "fonctions = {}\n",
        "fonctions[\"fete\"] = fete # on ne met pas les parenthèses\n",
        "fonctions[\"oiseau\"] = oiseau\n",
        "fonctions[\"fete\"]()\n",
        "fonctions[\"oiseau\"]() # on essaye de l'appeler"
      ],
      "execution_count": 0,
      "outputs": [
        {
          "output_type": "stream",
          "text": [
            "C'est la fête.\n",
            "Fais comme l'oiseau...\n"
          ],
          "name": "stdout"
        }
      ]
    },
    {
      "cell_type": "code",
      "metadata": {
        "id": "-zIWAkwU0OXg",
        "colab_type": "code",
        "colab": {}
      },
      "source": [
        "def fonction(**param) : #le double etoile indique que chacun des parametres DOIT être nommé \n",
        "  pass\n",
        "\n",
        "#exemple d'appel : fonction ( a=1, b = 2)\n",
        "\n",
        "def fonction_inconnue(*en_liste, **en_dictionnaire): #les parametres nommés iront dans en_dictionnaire, et les autres dans en_liste\n",
        "  pass"
      ],
      "execution_count": 0,
      "outputs": []
    },
    {
      "cell_type": "code",
      "metadata": {
        "id": "bDs6KTTV3lsR",
        "colab_type": "code",
        "outputId": "b4a86c76-ea2a-49e8-a6d3-4d77f0e682bd",
        "colab": {
          "base_uri": "https://localhost:8080/",
          "height": 51
        }
      },
      "source": [
        "import os\n",
        "os.getcwd()\n",
        "\n",
        "#pour eviter d'avoir a faire un file.close(), une methode plus pratique en cas d'erreur\n",
        "with open(\"test.txt\", \"a\") as file :\n",
        "  file.write(\"Lorem ipsum\")\n",
        "\n",
        "with open(\"test.txt\", \"r\") as file :\n",
        "  content = file.read()\n",
        "  print(content)\n",
        "\n",
        "print(file.closed)\n",
        "\n",
        "os.remove(\"test.txt\")"
      ],
      "execution_count": 0,
      "outputs": [
        {
          "output_type": "stream",
          "text": [
            "Lorem ipsum\n",
            "True\n"
          ],
          "name": "stdout"
        }
      ]
    },
    {
      "cell_type": "code",
      "metadata": {
        "id": "qARHL6Y951f3",
        "colab_type": "code",
        "outputId": "69840187-4589-460d-de9d-d879c058f369",
        "colab": {
          "base_uri": "https://localhost:8080/",
          "height": 34
        }
      },
      "source": [
        "import pickle\n",
        "\n",
        "cagnotte = {\n",
        "  \"ami 1\":   50,\n",
        "  \"ami 2\":   35,\n",
        "  \"ami 3\":    5,\n",
        "  \"ami 4\":  100,\n",
        "}\n",
        "#sauvegarde dans un fichier des données\n",
        "with open('donnees', 'wb') as fichier:\n",
        "  mon_pickler = pickle.Pickler(fichier)\n",
        "  mon_pickler.dump(cagnotte)\n",
        "\n",
        "del(cagnotte)\n",
        "\n",
        "#recreation de l'objet depuis les valeurs sauvées dans le fichier\n",
        "with open('donnees', 'rb') as fichier:\n",
        "  mon_unpickler = pickle.Unpickler(fichier)\n",
        "  cagnotte_lue = mon_unpickler.load()\n",
        "\n",
        "print(cagnotte_lue)"
      ],
      "execution_count": 0,
      "outputs": [
        {
          "output_type": "stream",
          "text": [
            "{'ami 1': 50, 'ami 2': 35, 'ami 3': 5, 'ami 4': 100}\n"
          ],
          "name": "stdout"
        }
      ]
    },
    {
      "cell_type": "code",
      "metadata": {
        "id": "51fhaMAclZXz",
        "colab_type": "code",
        "outputId": "90972c2b-405a-4332-9ed1-d94648e8dd7d",
        "colab": {
          "base_uri": "https://localhost:8080/",
          "height": 34
        }
      },
      "source": [
        "car = {\n",
        "  \"brand\": \"Ford\",\n",
        "  \"model\": \"Mustang\",\n",
        "  \"year\": 1964\n",
        "}\n",
        "\n",
        "x = car.get(\"plop\")\n",
        "\n",
        "print(x)"
      ],
      "execution_count": 0,
      "outputs": [
        {
          "output_type": "stream",
          "text": [
            "None\n"
          ],
          "name": "stdout"
        }
      ]
    },
    {
      "cell_type": "code",
      "metadata": {
        "id": "KlCe4XVqaGyN",
        "colab_type": "code",
        "colab": {}
      },
      "source": [
        "class Tutoriel:\n",
        "  \"\"\"Creation d'un objet pour les besoins du tuto\"\"\"\n",
        "\n",
        "  def __init__(self, avancement, termine) :\n",
        "    \"\"\"constructeur de la classe et initialisation des attributs\"\"\"\n",
        "    self.avancement = avancement\n",
        "    self.termine = termine\n"
      ],
      "execution_count": 0,
      "outputs": []
    },
    {
      "cell_type": "code",
      "metadata": {
        "id": "KeiLNwWKengD",
        "colab_type": "code",
        "colab": {
          "base_uri": "https://localhost:8080/",
          "height": 90
        },
        "outputId": "6f79ea5a-29ff-417d-92c9-528d2034e39e"
      },
      "source": [
        "class TableauNoir:\n",
        "    \"\"\"Classe définissant une surface sur laquelle on peut écrire,\n",
        "    que l'on peut lire et effacer, par jeu de méthodes. L'attribut modifié\n",
        "    est 'surface'\"\"\"\n",
        "\n",
        "    \n",
        "    def __init__(self):\n",
        "        \"\"\"Par défaut, notre surface est vide\"\"\"\n",
        "        self.surface = \"\" \n",
        "    def ecrire(self, message_a_ecrire):\n",
        "        \"\"\"Méthode permettant d'écrire sur la surface du tableau.\n",
        "        Si la surface n'est pas vide, on saute une ligne avant de rajouter\n",
        "        le message à écrire\"\"\"\n",
        "\n",
        "        \n",
        "        if self.surface != \"\":\n",
        "            self.surface += \"\\n\"\n",
        "        self.surface += message_a_ecrire\n",
        "    def lire(self) :\n",
        "      \"\"\"lire le teableau\"\"\"\n",
        "      print(self.surface)\n",
        "\n",
        "    def effacer(self) :\n",
        "      \"\"\"effacer le tableau\"\"\"\n",
        "      self.surface = \"\"\n",
        "\n",
        "tab = TableauNoir()\n",
        "tab.ecrire(\"msg commun\")\n",
        "tab.lire()\n",
        "tab.ecrire(\"2eme message\")\n",
        "tab.lire()\n",
        "tab.effacer()\n",
        "tab.lire()\n"
      ],
      "execution_count": 1,
      "outputs": [
        {
          "output_type": "stream",
          "text": [
            "msg commun\n",
            "msg commun\n",
            "2eme message\n",
            "\n"
          ],
          "name": "stdout"
        }
      ]
    },
    {
      "cell_type": "code",
      "metadata": {
        "id": "UZHTpZ8LglRQ",
        "colab_type": "code",
        "colab": {}
      },
      "source": [
        "class Compteur:\n",
        "    \"\"\"Cette classe possède un attribut de classe qui s'incrémente à chaque\n",
        "    fois que l'on crée un objet de ce type\"\"\"\n",
        "\n",
        "    \n",
        "    objets_crees = 0 # Le compteur vaut 0 au départ, la valeur est patagée par toutes les instances de la classe\n",
        "    def __init__(self):\n",
        "        \"\"\"À chaque fois qu'on crée un objet, on incrémente le compteur\"\"\"\n",
        "        Compteur.objets_crees += 1\n",
        "    def combien(cls): #methode de classe, utilise cls et pas self, appel depuis la classe directement et pas depuis une instance de la classe\n",
        "        \"\"\"Méthode de classe affichant combien d'objets ont été créés\"\"\"\n",
        "        print(\"Jusqu'à présent, {} objets ont été créés.\".format(\n",
        "                cls.objets_crees))\n",
        "    combien = classmethod(combien) # permet d'indiquer a python egalement que c une methode de classe\n",
        "\n",
        "    def afficher(): #methode statique, fait tjrs la meme chose, pas de parametre ou de variables !\n",
        "        \"\"\"Fonction chargée d'afficher quelque chose\"\"\"\n",
        "        print(\"On affiche la même chose.\")\n",
        "        print(\"peu importe les données de l'objet ou de la classe.\")\n",
        "    afficher = staticmethod(afficher) #declaration de la methode statique"
      ],
      "execution_count": 0,
      "outputs": []
    },
    {
      "cell_type": "markdown",
      "metadata": {
        "id": "4iZ1zZbuh48R",
        "colab_type": "text"
      },
      "source": [
        "Introspection : dir permet d'avoir la classe et la liste de ses attributs et methodes"
      ]
    },
    {
      "cell_type": "code",
      "metadata": {
        "id": "CDipJb2IjJDI",
        "colab_type": "code",
        "colab": {}
      },
      "source": [
        "class Personne:\n",
        "    \"\"\"Classe définissant une personne caractérisée par :\n",
        "    - son nom ;\n",
        "    - son prénom ;\n",
        "    - son âge ;\n",
        "    - son lieu de résidence\"\"\"\n",
        "\n",
        "    \n",
        "    def __init__(self, nom, prenom):\n",
        "        \"\"\"Constructeur de notre classe\"\"\"\n",
        "        self.nom = nom\n",
        "        self.prenom = prenom\n",
        "        self.age = 33\n",
        "        self._lieu_residence = \"Paris\" # Notez le souligné _ devant le nom\n",
        "    def _get_lieu_residence(self):\n",
        "    \"\"\"Méthode qui sera appelée quand on souhaitera accéder en lecture\n",
        "        à l'attribut 'lieu_residence'\"\"\"\n",
        "        \n",
        "        \n",
        "        print(\"On accède à l'attribut lieu_residence !\")\n",
        "        return self._lieu_residence\n",
        "    def _set_lieu_residence(self, nouvelle_residence):\n",
        "        \"\"\"Méthode appelée quand on souhaite modifier le lieu de résidence\"\"\"\n",
        "        print(\"Attention, il semble que {} déménage à {}.\".format( \\\n",
        "                self.prenom, nouvelle_residence))\n",
        "        self._lieu_residence = nouvelle_residence\n",
        "    # On va dire à Python que notre attribut lieu_residence pointe vers une\n",
        "    # propriété\n",
        "    lieu_residence = property(_get_lieu_residence, _set_lieu_residence) # cette property permet de mapper les accesseur à la propriété. ces fonctions seront automatiquement appelés en cas d'accès à l'attribut\n",
        "                                                                        # on lie donc _lieu_residence à lieu_residence, qui va appeler accesseurs et mutateurs"
      ],
      "execution_count": 0,
      "outputs": []
    },
    {
      "cell_type": "markdown",
      "metadata": {
        "id": "I4j5HKhCpuED",
        "colab_type": "text"
      },
      "source": [
        "Méthodes spéciales utiles : \n",
        "\n",
        "\n",
        "*   __repr__ : permet de definier ce qui est affiché quand on rentre direct l'objet dans l'interpreteur\n",
        "*   __str__ : ce quii est affiché qd on fait un print de l'objet (un toString() en gros, utilisé aussi par str(objet) )\n",
        "*   __getattr__, __setattr__, __delattr__ : comportement de l'objet si \n",
        "l'attribut demandé n'existe pas\n",
        "\n"
      ]
    },
    {
      "cell_type": "code",
      "metadata": {
        "id": "4gmRYFbfrrz9",
        "colab_type": "code",
        "colab": {}
      },
      "source": [
        "# surcharges d'operateurs au sein d'une classe \n",
        "\n",
        "class ZDict:\n",
        "    \"\"\"Classe enveloppe d'un dictionnaire\"\"\"\n",
        "    def __init__(self):\n",
        "        \"\"\"Notre classe n'accepte aucun paramètre\"\"\"\n",
        "        self._dictionnaire = {}\n",
        "    def __getitem__(self, index):\n",
        "        \"\"\"Cette méthode spéciale est appelée quand on fait objet[index]\n",
        "        Elle redirige vers self._dictionnaire[index]\"\"\"\n",
        "        \n",
        "        return self._dictionnaire[index]\n",
        "    def __setitem__(self, index, valeur):\n",
        "        \"\"\"Cette méthode est appelée quand on écrit objet[index] = valeur\n",
        "        On redirige vers self._dictionnaire[index] = valeur\"\"\"\n",
        "        \n",
        "        self._dictionnaire[index] = valeur\n",
        "\n",
        "    def __delitem__(self, index):\n",
        "      \"\"\"Cette méthode est appelée quand on écrit del(objet[index])\n",
        "        On redirige vers del(self._dictionnaire[index])\"\"\"\n",
        "      del(self._dictionnaire[index])\n",
        "\n",
        "    def __contains__(self, value)\n",
        "       \"\"\"Cette méthode est appelée quand on écrit x in object)\n",
        "        On redirige vers value in _dictionnaire\"\"\"\n",
        "\n",
        "      return value in _dictionnaire\n",
        "\n",
        "    def __len__(self, value)\n",
        "       \"\"\"Cette méthode est appelée quand on écrit len(object)\n",
        "        On redirige vers len(_dictionnaire)\"\"\"\n",
        "\n",
        "      return len(_dictionnaire)"
      ],
      "execution_count": 0,
      "outputs": []
    },
    {
      "cell_type": "code",
      "metadata": {
        "id": "JzBEZxmWtNgU",
        "colab_type": "code",
        "colab": {}
      },
      "source": [
        "class Duree:\n",
        "    \"\"\"Classe contenant des durées sous la forme d'un nombre de minutes\n",
        "    et de secondes\"\"\"\n",
        "    \n",
        "    def __init__(self, min=0, sec=0):\n",
        "        \"\"\"Constructeur de la classe\"\"\"\n",
        "        self.min = min # Nombre de minutes\n",
        "        self.sec = sec # Nombre de secondes\n",
        "    def __str__(self):\n",
        "        \"\"\"Affichage un peu plus joli de nos objets\"\"\"\n",
        "        return \"{0:02}:{1:02}\".format(self.min, self.sec)\n",
        "  \n",
        "    def __add__(self, objet_a_ajouter): #redefinition du symbole + utilisé avec cet objet\n",
        "        \"\"\"L'objet à ajouter est un entier, le nombre de secondes\"\"\"\n",
        "        nouvelle_duree = Duree()\n",
        "        # On va copier self dans l'objet créé pour avoir la même durée\n",
        "        nouvelle_duree.min = self.min\n",
        "        nouvelle_duree.sec = self.sec\n",
        "        # On ajoute la durée\n",
        "        nouvelle_duree.sec += objet_a_ajouter\n",
        "        # Si le nombre de secondes >= 60\n",
        "        if nouvelle_duree.sec >= 60:\n",
        "            nouvelle_duree.min += nouvelle_duree.sec // 60\n",
        "            nouvelle_duree.sec = nouvelle_duree.sec % 60\n",
        "        # On renvoie la nouvelle durée\n",
        "        return nouvelle_duree\n",
        "\n",
        "      \"\"\" autres surcharges d'operateurs : \n",
        "      __sub__: surcharge de l'opérateur-;\n",
        "\n",
        "      __mul__: surcharge de l'opérateur*;\n",
        "\n",
        "      __truediv__: surcharge de l'opérateur/;\n",
        "\n",
        "      __floordiv__: surcharge de l'opérateur//(division entière) ;\n",
        "\n",
        "      __mod__: surcharge de l'opérateur%(modulo) ;\n",
        "\n",
        "      __pow__: surcharge de l'opérateur**(puissance) ;\n",
        "      \n",
        "      __iad__ : surcharge de += et -=\n",
        "      \n",
        "      si on rajoute r devant la surcharge d'operateur (ex : __radd__) on code x + object et non plus object + x comme avec __add__\n",
        "      \"\"\"\n",
        "\n",
        "\n",
        "      \"\"\"\n",
        "        operateurs de comparaisons :\n",
        "        ==\n",
        "\n",
        "          def __eq__(self, objet_a_comparer):\n",
        "\n",
        "          Opérateur d'égalité (equal). Renvoie True si self et objet_a_comparer sont égaux,False sinon.\n",
        "\n",
        "          !=\n",
        "\n",
        "          def __ne__(self, objet_a_comparer):\n",
        "\n",
        "          Différent de (non equal). Renvoie True si self et objet_a_comparer sont différents,False sinon.\n",
        "\n",
        "          >\n",
        "\n",
        "          def __gt__(self, objet_a_comparer):\n",
        "\n",
        "          Teste si self est strictement supérieur (greater than) à objet_a_comparer.\n",
        "\n",
        "          >=\n",
        "\n",
        "          def __ge__(self, objet_a_comparer):\n",
        "\n",
        "          Teste si self est supérieur ou égal (greater or equal) à objet_a_comparer.\n",
        "\n",
        "          <\n",
        "\n",
        "          def __lt__(self, objet_a_comparer):\n",
        "\n",
        "          Teste si self est strictement inférieur (lower than) à objet_a_comparer, utilisé pour le tri notament\n",
        "\n",
        "          <=\n",
        "\n",
        "          def __le__(self, objet_a_comparer):\n",
        "\n",
        "          Teste si self est inférieur ou égal (lower or equal) à objet_a_comparer.\n",
        "      \"\"\"\n",
        "\n",
        "      def __getstate__(self):\n",
        "        \"\"\"Renvoie le dictionnaire d'attributs à sérialiser, utilisé par pickle par exemple\"\"\"\n",
        "        dict_attr = dict(self.__dict__)\n",
        "        return dict_attr\n",
        "      ...\n",
        "      def __setstate__(self, dict_attr):\n",
        "        \"\"\"Méthode appelée lors de la désérialisation de l'objet\"\"\"\n",
        "        self.__dict__ = dict_attr\n",
        "\n",
        "    \"\"\" on px renvoyer autre chose qu'un dictionnaire d'attribut pour ces methodes, ms il faut garder la cohérence get/set à la mano\"\"\"\n"
      ],
      "execution_count": 0,
      "outputs": []
    },
    {
      "cell_type": "code",
      "metadata": {
        "id": "_fIo7wn13pK5",
        "colab_type": "code",
        "colab": {
          "base_uri": "https://localhost:8080/",
          "height": 108
        },
        "outputId": "6be45712-213d-4673-d635-da944eed4f41"
      },
      "source": [
        "etudiants = [\n",
        "    (\"Clément\", 14, 16),\n",
        "    (\"Charles\", 12, 15),\n",
        "    (\"Oriane\", 14, 18),\n",
        "    (\"Thomas\", 11, 12),\n",
        "    (\"Damien\", 12, 15),\n",
        "]\n",
        "\n",
        "#trier par note, dernier attribut du tuple\n",
        "sorted(etudiants, key=lambda etudiant: etudiant[2])\n",
        "\n",
        "#sans lambda pour plus de perf\n",
        "from operator import itemgetter\n",
        "sorted(etudiants, key=itemgetter(2))\n",
        "\n",
        "\"\"\"pour trier des objets \"\"\"\n",
        "class Etudiant:\n",
        "\n",
        "    \"\"\"Classe représentant un étudiant.\n",
        "\n",
        "    On représente un étudiant par son prénom (attribut prenom), son âge\n",
        "    (attribut age) et sa note moyenne (attribut moyenne, entre 0 et 20).\n",
        "\n",
        "    Paramètres du constructeur :\n",
        "        prenom -- le prénom de l'étudiant\n",
        "        age -- l'âge de l'étudiant\n",
        "        moyenne -- la moyenne de l'étudiant\n",
        "\n",
        "    \"\"\"\n",
        "\n",
        "    def __init__(self, prenom, age, moyenne):\n",
        "        self.prenom = prenom\n",
        "        self.age = age\n",
        "        self.moyenne = moyenne\n",
        "\n",
        "    def __repr__(self):\n",
        "        return \"<Étudiant {} (âge={}, moyenne={})>\".format(\n",
        "                self.prenom, self.age, self.moyenne)\n",
        "\n",
        "etudiants = [\n",
        "    Etudiant(\"Clément\", 14, 16),\n",
        "    Etudiant(\"Charles\", 12, 15),\n",
        "    Etudiant(\"Oriane\", 14, 18),\n",
        "    Etudiant(\"Thomas\", 11, 12),\n",
        "    Etudiant(\"Damien\", 12, 15),\n",
        "]\n",
        "\n",
        "#on utilise attrgetter et pas itemgetter\n",
        "from operator import attrgetter\n",
        "sorted(etudiants, key=attrgetter(\"moyenne\"))\n",
        "#pour trier via plusieurs criteres\n",
        "sorted(etudiants, key=attrgetter(\"age\", \"moyenne\"))"
      ],
      "execution_count": 5,
      "outputs": [
        {
          "output_type": "execute_result",
          "data": {
            "text/plain": [
              "[<Étudiant Thomas (âge=11, moyenne=12)>,\n",
              " <Étudiant Charles (âge=12, moyenne=15)>,\n",
              " <Étudiant Damien (âge=12, moyenne=15)>,\n",
              " <Étudiant Clément (âge=14, moyenne=16)>,\n",
              " <Étudiant Oriane (âge=14, moyenne=18)>]"
            ]
          },
          "metadata": {
            "tags": []
          },
          "execution_count": 5
        }
      ]
    },
    {
      "cell_type": "code",
      "metadata": {
        "id": "tc0ctf7d49uz",
        "colab_type": "code",
        "colab": {}
      },
      "source": [
        "#heritage\n",
        "class A:\n",
        "    \"\"\"Classe A, pour illustrer notre exemple d'héritage\"\"\"\n",
        "    pass # On laisse la définition vide, ce n'est qu'un exemple\n",
        "\n",
        "class B(A):\n",
        "    \"\"\"Classe B, qui hérite de A.\n",
        "    Elle reprend les mêmes méthodes et attributs (dans cet exemple, la classe\n",
        "    A ne possède de toute façon ni méthode ni attribut)\"\"\"\n",
        "    \n",
        "    pass"
      ],
      "execution_count": 0,
      "outputs": []
    },
    {
      "cell_type": "markdown",
      "metadata": {
        "id": "uXg8addB54bC",
        "colab_type": "text"
      },
      "source": [
        "isinstance permettent de savoir si un objet est une instance d'une classe ou d'une de ses classes filles \\\n",
        "\n",
        "issubclass permet de savoir si la classe de l'objet et une sous classe d'une autre classe (elle hérite)"
      ]
    },
    {
      "cell_type": "code",
      "metadata": {
        "id": "3FSE-2LD7M7j",
        "colab_type": "code",
        "colab": {}
      },
      "source": [
        "#definition minimale d'une exception : \n",
        "class MonException(Exception):\n",
        "    \"\"\"Exception levée dans un certain contexte… qui reste à définir\"\"\"\n",
        "    def __init__(self, message):\n",
        "        \"\"\"On se contente de stocker le message d'erreur\"\"\"\n",
        "        self.message = message\n",
        "    def __str__(self):\n",
        "        \"\"\"On renvoie le message\"\"\"\n",
        "        return self.message"
      ],
      "execution_count": 0,
      "outputs": []
    },
    {
      "cell_type": "code",
      "metadata": {
        "id": "Cvfy7flD74Gy",
        "colab_type": "code",
        "colab": {}
      },
      "source": [
        "# ITERATEURS\n",
        "# utilisateur de __iter__ pour avoir un iterateur\n",
        "# l'iterateur renvoie l'element suivant via __next__ ou une exception StopIteration si tous les elements ont étés parcourus\n",
        "\n",
        "class RevStr(str):\n",
        "    \"\"\"Classe reprenant les méthodes et attributs des chaînes construites\n",
        "    depuis 'str'. On se contente de définir une méthode de parcours\n",
        "    différente : au lieu de parcourir la chaîne de la première à la dernière\n",
        "    lettre, on la parcourt de la dernière à la première.\n",
        "    \n",
        "    Les autres méthodes, y compris le constructeur, n'ont pas besoin\n",
        "    d'être redéfinies\"\"\"\n",
        "    \n",
        "    def __iter__(self):\n",
        "        \"\"\"Cette méthode renvoie un itérateur parcourant la chaîne\n",
        "        dans le sens inverse de celui de 'str'\"\"\"\n",
        "        \n",
        "        return ItRevStr(self) # On renvoie l'itérateur créé pour l'occasion\n",
        "\n",
        "class ItRevStr:\n",
        "    \"\"\"Un itérateur permettant de parcourir une chaîne de la dernière lettre\n",
        "    à la première. On stocke dans des attributs la position courante et la\n",
        "    chaîne à parcourir\"\"\"\n",
        "    \n",
        "    def __init__(self, chaine_a_parcourir):\n",
        "       \"\"\"On se positionne à la fin de la chaîne\"\"\"\n",
        "        self.chaine_a_parcourir = chaine_a_parcourir\n",
        "        self.position = len(chaine_a_parcourir)\n",
        "    def __next__(self):\n",
        "        \"\"\"Cette méthode doit renvoyer l'élément suivant dans le parcours,\n",
        "        ou lever l'exception 'StopIteration' si le parcours est fini\"\"\"\n",
        "        \n",
        "        if self.position == 0: # Fin du parcours\n",
        "            raise StopIteration\n",
        "        self.position -= 1 # On décrémente la position\n",
        "        return self.chaine_a_parcourir[self.position]"
      ],
      "execution_count": 0,
      "outputs": []
    },
    {
      "cell_type": "code",
      "metadata": {
        "id": "MkKKgtDX9LNO",
        "colab_type": "code",
        "colab": {
          "base_uri": "https://localhost:8080/",
          "height": 90
        },
        "outputId": "c1c404eb-ce0e-4cc6-d924-81cdb68db330"
      },
      "source": [
        "def intervalle(min, max) : \n",
        "  while min < max:\n",
        "    min += 1\n",
        "    yield min\n",
        "        \n",
        "for nbr in intervalle(8, 12):\n",
        "  print(nbr)"
      ],
      "execution_count": 9,
      "outputs": [
        {
          "output_type": "stream",
          "text": [
            "9\n",
            "10\n",
            "11\n",
            "12\n"
          ],
          "name": "stdout"
        }
      ]
    },
    {
      "cell_type": "code",
      "metadata": {
        "id": "AsWbdXwd_A96",
        "colab_type": "code",
        "colab": {
          "base_uri": "https://localhost:8080/",
          "height": 272
        },
        "outputId": "91fb1a64-bfd8-4503-9f1c-48b1acb2414c"
      },
      "source": [
        "# TP3\n",
        "class DictionnaireOrdonne :\n",
        "    def __init__(self, *dico, **tupple) :\n",
        "      self._clef = list()\n",
        "      self._valeur= list()\n",
        "\n",
        "      for clef in dico:\n",
        "        self._clef.append(clef)\n",
        "        self._valeur.append(dico[clef])\n",
        "\n",
        "      for item in tupple:\n",
        "        self._clef.append(item)\n",
        "        self._valeur.append(tupple[item])\n",
        "    \n",
        "    #surcharge des operateurs\n",
        "    def __getitem__(self, cle):\n",
        "      try :\n",
        "        return self._valeur[self._clef.index(cle)]\n",
        "      except ValueError :\n",
        "        print(\"La valeur {} n'existe pas\".format(cle))\n",
        "        return \"\"\n",
        "\n",
        "    def __setitem__(self, cle, valeur):      \n",
        "\n",
        "      if cle in self._clef :\n",
        "        index = self._clef.index(cle)\n",
        "        self._valeur[index] = valeur\n",
        "      else :\n",
        "        self._clef.append(cle)\n",
        "        self._valeur.append(valeur)\n",
        "\n",
        "    def __delitem__(self, clef):\n",
        "      if cle not in self._clef:\n",
        "         print ( \"La clé {} n'est pas présente.\".format(cle))\n",
        "      else:\n",
        "        index = self._clef.index(clef)\n",
        "        del self._clef[index]\n",
        "        del self._valeur[index]\n",
        "\n",
        "    def __contains__(self, value) :\n",
        "      return value in self._clef\n",
        "\n",
        "    def __len__(self) :\n",
        "      return len(self._clef)\n",
        "\n",
        "    def __repr__(self) :\n",
        "      return self.toString()\n",
        "\n",
        "    def __str__(self) :\n",
        "      return self.toString()\n",
        "\n",
        "    def __add__(self, dicoExterne) :\n",
        "      tmpDict = dict()\n",
        "\n",
        "      for cle in self._clef :\n",
        "        tmpDict[cle] = self._valeur[self._clef.index(cle)]\n",
        "\n",
        "      for cle, val in dicoExterne.items() :\n",
        "        tmpDict[cle] = val\n",
        "      \n",
        "      return tmpDict\n",
        "\n",
        "    def __iter__(self) :\n",
        "      return iter(self._clef)\n",
        "\n",
        "  #methodes\n",
        "\n",
        "    def toString (self) :\n",
        "      premier = True\n",
        "      tmpChaine = str()\n",
        "      for cle in self._clef :\n",
        "        if not premier : \n",
        "          tmpChaine += \", \"\n",
        "        else : \n",
        "          premier = False\n",
        "        \n",
        "        tempVal = self._clef.index(cle)\n",
        "        tmpChaine +=\" {}: {}\".format(cle, str(self._valeur[tempVal]))\n",
        "      \n",
        "      aAfficher = \"{ \" + tmpChaine + \"}\"\n",
        "      return( aAfficher )\n",
        "    \n",
        "    def items(self) :\n",
        "      for cle in self._clef :\n",
        "        yield cle, self._valeur[ self._clef.index(cle) ]\n",
        "\n",
        "    def sort( self ) :\n",
        "      #copie des donnees\n",
        "      oldClef = list(self._clef)\n",
        "      oldVal = list(self._valeur)\n",
        "\n",
        "      #tri\n",
        "      self._clef.sort()\n",
        "      self._valeur.clear()\n",
        "\n",
        "      #recreation de la correspondance\n",
        "      for clef in self._clef :\n",
        "        i = oldClef.index(clef)\n",
        "        self._valeur.append(oldVal[i])\n",
        "\n",
        "      #suppression des listes temporaires\n",
        "      del( oldClef ) \n",
        "      del( oldVal )\n",
        "\n",
        "    def reverse(self) :\n",
        "      self.sort()\n",
        "      self._clef.reverse()\n",
        "      self._valeur.reverse()\n",
        "\n",
        "    def keys(self) :\n",
        "      return self._clef\n",
        "\n",
        "    def values(self) :\n",
        "      return self._valeur\n",
        "#TESTS\n",
        "\n",
        "fruits = DictionnaireOrdonne()\n",
        "print(fruits)\n",
        "# attendu {}\n",
        "fruits[\"pomme\"] = 52\n",
        "fruits[\"poire\"] = 34\n",
        "fruits[\"prune\"] = 128\n",
        "fruits[\"melon\"] = 15\n",
        "\n",
        "print(fruits)\n",
        "#attendu \n",
        "#{'pomme': 52, 'poire': 34, 'prune': 128, 'melon': 15}\n",
        "\n",
        "fruits.sort()\n",
        "print(fruits)\n",
        "#attendu :\n",
        "#{'melon': 15, 'poire': 34, 'pomme': 52, 'prune': 128}\n",
        "\n",
        "legumes = DictionnaireOrdonne(carotte = 26, haricot = 48)\n",
        "print(legumes)\n",
        "#attendu : {'carotte': 26, 'haricot': 48}\n",
        "\n",
        "print(len(legumes))\n",
        "#attendu : 2\n",
        "\n",
        "legumes.reverse()\n",
        "fruits = fruits + legumes\n",
        "print(fruits)\n",
        "#attendu : \n",
        "# {'melon': 15, 'poire': 34, 'pomme': 52, 'prune': 128, 'haricot': 48, 'carotte': 26}\n",
        "\n",
        "del fruits['haricot']\n",
        "\n",
        "print('haricot' in fruits)\n",
        "#attendu : False\n",
        "\n",
        "print(legumes['haricot'])\n",
        "#attendu : 48\n",
        "\n",
        "for cle in legumes:\n",
        "  print(cle)\n",
        "\n",
        "#attendu :\n",
        "#haricot\n",
        "#carotte\n",
        "\n",
        "print(legumes.keys())\n",
        "#attendu : ['haricot', 'carotte']\n",
        "\n",
        "print(legumes.values())\n",
        "#attendu : [48, 26]\n",
        "\n",
        "for nom, qtt in legumes.items():\n",
        "  print(\"{0} ({1})\".format(nom, qtt))\n",
        "\n",
        "#attendu :  \n",
        "# haricot (48)\n",
        "# carotte (26)"
      ],
      "execution_count": 67,
      "outputs": [
        {
          "output_type": "stream",
          "text": [
            "{ }\n",
            "{  pomme: 52,  poire: 34,  prune: 128,  melon: 15}\n",
            "{  melon: 15,  poire: 34,  pomme: 52,  prune: 128}\n",
            "{  carotte: 26,  haricot: 48}\n",
            "2\n",
            "{'melon': 15, 'poire': 34, 'pomme': 52, 'prune': 128, 'haricot': 48, 'carotte': 26}\n",
            "False\n",
            "48\n",
            "haricot\n",
            "carotte\n",
            "['haricot', 'carotte']\n",
            "[48, 26]\n",
            "haricot (48)\n",
            "carotte (26)\n"
          ],
          "name": "stdout"
        }
      ]
    },
    {
      "cell_type": "code",
      "metadata": {
        "id": "Nb8LdbvoRp2t",
        "colab_type": "code",
        "colab": {}
      },
      "source": [
        "#Decorateur avec argument ....\n",
        "\"\"\"Pour gérer le temps, on importe le module time\n",
        "On va utiliser surtout la fonction time() de ce module qui renvoie le nombre\n",
        "de secondes écoulées depuis le premier janvier 1970 (habituellement).\n",
        "On va s'en servir pour calculer le temps mis par notre fonction pour\n",
        "s'exécuter\"\"\"\n",
        "\n",
        "import time\n",
        "\n",
        "def controler_temps(nb_secs):\n",
        "    \"\"\"Contrôle le temps mis par une fonction pour s'exécuter.\n",
        "    Si le temps d'exécution est supérieur à nb_secs, on affiche une alerte\"\"\"\n",
        "    \n",
        "    def decorateur(fonction_a_executer):\n",
        "        \"\"\"Notre décorateur. C'est lui qui est appelé directement LORS\n",
        "        DE LA DEFINITION de notre fonction (fonction_a_executer)\"\"\"\n",
        "        \n",
        "        def fonction_modifiee():\n",
        "            \"\"\"Fonction renvoyée par notre décorateur. Elle se charge\n",
        "            de calculer le temps mis par la fonction à s'exécuter\"\"\"\n",
        "            \n",
        "            tps_avant = time.time() # Avant d'exécuter la fonction\n",
        "            valeur_renvoyee = fonction_a_executer() # On exécute la fonction\n",
        "            tps_apres = time.time()\n",
        "            tps_execution = tps_apres - tps_avant\n",
        "            if tps_execution >= nb_secs:\n",
        "                print(\"La fonction {0} a mis {1} pour s'exécuter\".format( \\\n",
        "                        fonction_a_executer, tps_execution))\n",
        "            return valeur_renvoyee\n",
        "        return fonction_modifiee\n",
        "    return decorateur\n",
        "\n",
        "\n",
        "#pour appliquer un/des décorateur(s) a une fonction : \n",
        "\n",
        "@decorateur1\n",
        "@decorateur2\n",
        "def fonction():\n",
        "    pass"
      ],
      "execution_count": 0,
      "outputs": []
    }
  ]
}